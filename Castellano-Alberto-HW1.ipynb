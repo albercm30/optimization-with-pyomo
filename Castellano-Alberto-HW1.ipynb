{
 "cells": [
  {
   "cell_type": "markdown",
   "id": "4831482a-f11e-446b-adf4-966179707092",
   "metadata": {},
   "source": [
    "# **HOMEWORK 1 - BY ALBERTO CASTELLANO MACÍAS**"
   ]
  },
  {
   "cell_type": "markdown",
   "id": "3309bd58-d359-4b8f-a23b-26bdd2ec5a56",
   "metadata": {},
   "source": [
    "## PROBLEM: GYM SCHEDULING"
   ]
  },
  {
   "cell_type": "markdown",
   "id": "11c5b224-68e1-4333-9772-707772b7ba7b",
   "metadata": {},
   "source": [
    "### STATEMENT\n"
   ]
  },
  {
   "cell_type": "markdown",
   "id": "40c9ca0f-d83c-4a50-814f-fd93252937ed",
   "metadata": {},
   "source": [
    "You want to sign up to the nearest gym for the next 6 months, but you have different schedules each month and, therefore, you have a different amount of free days on each month to go to the gym.\n",
    "\n",
    "Fortunately, this gym offers several plans for a price each and you can select as many as you want.\n",
    "\n",
    "You want to find out which are the best plans for you to choose, so you spend the least amount of money and get to go your desired number of days."
   ]
  },
  {
   "cell_type": "markdown",
   "id": "93bb24a3-5ebb-4ea4-ac8f-5a3a975ecc87",
   "metadata": {},
   "source": [
    "|     | SAT | SUN | MON | TUE | WED | THU | FRI |\n",
    "| --- | --- | --- | --- | --- | --- | --- | --- |\n",
    "| Number of days available | 20 | 24 | 18 | 16 | 17 | 19 | 11 |\n",
    "\n",
    "\n",
    "The gym has many different offers for their clients in order to attract more people considering their availability, with the following prices (in euros):\n",
    "\n",
    "|  | Price |\n",
    "| --- | --- |\n",
    "| Daily cost Sat/Sun | 6 |\n",
    "| Daily cost weekday | 5 |\n",
    "| Two-day plan (two consecutive weekdays) | 9.5 |\n",
    "| Three-day plan (three consecutive weekdays) | 13.5 |\n",
    "| Four-day plan (four consecutive weekdays) | 17.5 |\n",
    "| Three non-consecutive weekdays plan (Mon-Wed-Fri) | 13 |\n",
    "| Three weekdays and one weekend day plan (e.g. Mon-Wed-Thu-Sat) | 18 |\n",
    "| Weekend plan (Sat and Sun) | 10.5 |\n",
    "| All-weekdays plan (Mon though Fri) | 22 |\n",
    "| All-week plan (Sat through Fri) | 34.5 |\n",
    "\n",
    "\n"
   ]
  },
  {
   "cell_type": "markdown",
   "id": "db51d1bf-7662-4466-a88a-911189955fcd",
   "metadata": {},
   "source": [
    "This problem can be formulated mathematically as a linear programming problem using the following model:  \n",
    "\n",
    "### Sets\n",
    "\n",
    " $A$ = data matrix for constraints \n",
    "\n",
    " $I$ = set of row indices\n",
    " \n",
    " $J$ = set of column indices\n",
    "\n",
    "### Parameters\n",
    "\n",
    " $c_j$ = cost of each plan $x$, $\\forall j \\in J$    \n",
    " \n",
    " $budgetmin$ = minimum amount to spend (500)\n",
    " \n",
    " $budgetmax$ = maximum amount to spend (900)\n",
    " \n",
    " $b_i$ = days required for each day of the week\n",
    "\n",
    " \n",
    "### Variables\n",
    "\n",
    " $x_i$ = gym plans,   $i = 0,1,2,...,39$\n",
    "\n",
    "### Objective\n",
    "\n",
    "Minimize the cost of choosing your gym plans   \n",
    " $\\min \\sum_{j \\in J} c_j x_j$\n",
    "\n",
    "### Constraints\n",
    "\n",
    "Complete min requirement of days $b_i$:\n",
    "\n",
    " $\\forall i \\in I$, $b_i$ $\\leq \\sum_{j \\in J} A_{ij} x_j$, $\\forall j \\in J$\n",
    " \n",
    " Spending is less or equal to 900 and higher or equal to 500:\n",
    " \n",
    " $900$ $\\leq \\sum_{j \\in J} c_j x_j$, $\\forall j \\in J$ $\\leq$ $500$\n",
    " \n",
    "  \n"
   ]
  },
  {
   "cell_type": "markdown",
   "id": "c1a63c29-1d8b-4ddb-8916-b30f93ff7156",
   "metadata": {},
   "source": [
    "### 1. Formulating the problem"
   ]
  },
  {
   "cell_type": "code",
   "execution_count": 1,
   "id": "a257b46f-7177-4586-abae-1a63f2b79e56",
   "metadata": {},
   "outputs": [
    {
     "name": "stdout",
     "output_type": "stream",
     "text": [
      "We have 40 variables\n",
      "We have 7 requirements, one for each day of the week\n"
     ]
    }
   ],
   "source": [
    "import numpy as np\n",
    "\n",
    "# the data\n",
    "\n",
    "# set of prices\n",
    "c = np.array([6, 6, 5, 5, 5, 5, 5, 9.5, 9.5, 9.5, 9.5, 13.5, 13.5, 13.5, 17.5, 17.5, 13, 18, 18, 18, 18, 18, 18, 18, 18, 18, 18, 18, 18, 18, 18, 18, 18, 18, 18, 18, 18, 10.5, 22, 34.5])\n",
    "\n",
    "# data matrix for constraints \n",
    "A = np.array([[1, 0, 0, 0, 0, 0, 0, 0, 0, 0, 0, 0, 0, 0, 0, 0, 0, 1, 1, 1, 1, 1, 1, 1, 1, 1, 1, 0, 0, 0, 0, 0, 0, 0, 0, 0, 0, 1, 0, 1],\n",
    "              [0, 1, 0, 0, 0, 0, 0, 0, 0, 0, 0, 0, 0, 0, 0, 0, 0, 0, 0, 0, 0, 0, 0, 0, 0, 0, 0, 1, 1, 1, 1, 1, 1, 1, 1, 1, 1, 1, 0, 1],\n",
    "              [0, 0, 1, 0, 0, 0, 0, 1, 0, 0, 0, 1, 0, 0, 1, 0, 1, 1, 1, 1, 1, 1, 1, 0, 0, 0, 0, 1, 1, 1, 1, 1, 1, 0, 0, 0, 0, 0, 1, 1],\n",
    "              [0, 0, 0, 1, 0, 0, 0, 1, 1, 0, 0, 1, 1, 0, 1, 1, 0, 1, 1, 1, 0, 0, 0, 1, 1, 1, 0, 1, 1, 1, 0, 0, 0, 1, 1, 1, 0, 0, 1, 1],\n",
    "              [0, 0, 0, 0, 1 ,0, 0, 0, 1, 1, 0, 1, 1, 1, 1, 1, 1, 1, 0, 0, 1, 1, 0, 1, 1, 0, 1, 1, 0, 0, 1, 1, 0, 1, 1, 0, 1, 0, 1, 1],\n",
    "              [0, 0, 0, 0, 0, 1, 0, 0, 0, 1, 1, 0, 1, 1, 1, 1, 0, 0, 1, 0, 1, 0, 1, 1, 0, 1, 1, 0, 1, 0, 1, 0, 1, 1, 0, 1, 1, 0, 1, 1],\n",
    "              [0, 0, 0, 0 ,0, 0, 1, 0, 0, 0, 1, 0, 0, 1, 0, 1, 1, 0, 0, 1, 0, 1, 1, 0, 1, 1, 1, 0, 0, 1, 0, 1, 1, 0, 1, 1, 1, 0, 1, 1]])\n",
    "\n",
    "# days available for each day of the week\n",
    "b = np.array([20, 24, 18, 16, 17, 19, 11])\n",
    "\n",
    "\n",
    "I = range(len(A)) # row indices\n",
    "\n",
    "J = range(len(A.T)) # column indices\n",
    "\n",
    "print('We have', len(J), 'variables')\n",
    "print('We have', len(I), 'requirements, one for each day of the week')"
   ]
  },
  {
   "cell_type": "markdown",
   "id": "03336e55-4e57-475a-bab9-9c9e7a385704",
   "metadata": {},
   "source": [
    "### 2. Identifying the model"
   ]
  },
  {
   "cell_type": "code",
   "execution_count": 2,
   "id": "64f4a69c-b7ed-49e0-a78b-fe0b0b98173e",
   "metadata": {},
   "outputs": [
    {
     "data": {
      "text/plain": [
       "<pyomo.core.base.constraint._GeneralConstraintData at 0x7f97c75174c0>"
      ]
     },
     "execution_count": 2,
     "metadata": {},
     "output_type": "execute_result"
    }
   ],
   "source": [
    "from pyomo.environ import *\n",
    "\n",
    "model = ConcreteModel()\n",
    "\n",
    "model.x = Var(J, within=NonNegativeIntegers)\n",
    "\n",
    "model.objective = Objective(expr=sum(model.x[j]*c[j] for j in J), sense=minimize)  # minimize cost                      \n",
    "\n",
    "# Constraint 1: target days for each day of the week\n",
    "# Constraint 2: budget for 6 months is 900 euros\n",
    "# Constraint 3: want to spend a minimum of 500 euros\n",
    "                          \n",
    "model.constraints = ConstraintList()\n",
    "for i in I:\n",
    "    model.constraints.add(sum(A[i,j]*model.x[j] for j in J) >= b[i]) # complete target days requirement\n",
    "\n",
    "model.constraints.add(sum(model.x[j]*c[j] for j in J) <= 900) # budget for 6 months is 900 euros\n",
    "model.constraints.add(sum(model.x[j]*c[j] for j in J) >= 500) # min amount we want to spend is 500 euros"
   ]
  },
  {
   "cell_type": "markdown",
   "id": "d503366b-c9ef-4087-a245-9610054777b6",
   "metadata": {},
   "source": [
    "### 3. Solving the problem"
   ]
  },
  {
   "cell_type": "code",
   "execution_count": 3,
   "id": "de01124c-1077-4b85-afa4-6f45b148f7a7",
   "metadata": {},
   "outputs": [
    {
     "name": "stdout",
     "output_type": "stream",
     "text": [
      "Model unknown\n",
      "\n",
      "  Variables:\n",
      "    x : Size=40, Index=x_index\n",
      "        Key : Lower : Value : Upper : Fixed : Stale : Domain\n",
      "          0 :     0 :   0.0 :  None : False : False : NonNegativeIntegers\n",
      "          1 :     0 :   0.0 :  None : False : False : NonNegativeIntegers\n",
      "          2 :     0 :   0.0 :  None : False : False : NonNegativeIntegers\n",
      "          3 :     0 :   0.0 :  None : False : False : NonNegativeIntegers\n",
      "          4 :     0 :   0.0 :  None : False : False : NonNegativeIntegers\n",
      "          5 :     0 :   0.0 :  None : False : False : NonNegativeIntegers\n",
      "          6 :     0 :   0.0 :  None : False : False : NonNegativeIntegers\n",
      "          7 :     0 :   0.0 :  None : False : False : NonNegativeIntegers\n",
      "          8 :     0 :   0.0 :  None : False : False : NonNegativeIntegers\n",
      "          9 :     0 :   0.0 :  None : False : False : NonNegativeIntegers\n",
      "         10 :     0 :   0.0 :  None : False : False : NonNegativeIntegers\n",
      "         11 :     0 :   0.0 :  None : False : False : NonNegativeIntegers\n",
      "         12 :     0 :   0.0 :  None : False : False : NonNegativeIntegers\n",
      "         13 :     0 :   0.0 :  None : False : False : NonNegativeIntegers\n",
      "         14 :     0 :   0.0 :  None : False : False : NonNegativeIntegers\n",
      "         15 :     0 :   0.0 :  None : False : False : NonNegativeIntegers\n",
      "         16 :     0 :   1.0 :  None : False : False : NonNegativeIntegers\n",
      "         17 :     0 :   0.0 :  None : False : False : NonNegativeIntegers\n",
      "         18 :     0 :   4.0 :  None : False : False : NonNegativeIntegers\n",
      "         19 :     0 :   0.0 :  None : False : False : NonNegativeIntegers\n",
      "         20 :     0 :   0.0 :  None : False : False : NonNegativeIntegers\n",
      "         21 :     0 :   4.0 :  None : False : False : NonNegativeIntegers\n",
      "         22 :     0 :   0.0 :  None : False : False : NonNegativeIntegers\n",
      "         23 :     0 :   3.0 :  None : False : False : NonNegativeIntegers\n",
      "         24 :     0 :   0.0 :  None : False : False : NonNegativeIntegers\n",
      "         25 :     0 :   0.0 :  None : False : False : NonNegativeIntegers\n",
      "         26 :     0 :   0.0 :  None : False : False : NonNegativeIntegers\n",
      "         27 :     0 :   3.0 :  None : False : False : NonNegativeIntegers\n",
      "         28 :     0 :   0.0 :  None : False : False : NonNegativeIntegers\n",
      "         29 :     0 :   0.0 :  None : False : False : NonNegativeIntegers\n",
      "         30 :     0 :   6.0 :  None : False : False : NonNegativeIntegers\n",
      "         31 :     0 :   0.0 :  None : False : False : NonNegativeIntegers\n",
      "         32 :     0 :   0.0 :  None : False : False : NonNegativeIntegers\n",
      "         33 :     0 :   0.0 :  None : False : False : NonNegativeIntegers\n",
      "         34 :     0 :   0.0 :  None : False : False : NonNegativeIntegers\n",
      "         35 :     0 :   6.0 :  None : False : False : NonNegativeIntegers\n",
      "         36 :     0 :   0.0 :  None : False : False : NonNegativeIntegers\n",
      "         37 :     0 :   9.0 :  None : False : False : NonNegativeIntegers\n",
      "         38 :     0 :   0.0 :  None : False : False : NonNegativeIntegers\n",
      "         39 :     0 :   0.0 :  None : False : False : NonNegativeIntegers\n",
      "\n",
      "  Objectives:\n",
      "    objective : Size=1, Index=None, Active=True\n",
      "        Key  : Active : Value\n",
      "        None :   True : 575.5\n",
      "\n",
      "  Constraints:\n",
      "    constraints : Size=9\n",
      "        Key : Lower : Body  : Upper\n",
      "          1 :  20.0 :  20.0 :  None\n",
      "          2 :  24.0 :  24.0 :  None\n",
      "          3 :  18.0 :  18.0 :  None\n",
      "          4 :  16.0 :  16.0 :  None\n",
      "          5 :  17.0 :  17.0 :  None\n",
      "          6 :  19.0 :  19.0 :  None\n",
      "          7 :  11.0 :  11.0 :  None\n",
      "          8 :  None : 575.5 : 900.0\n",
      "          9 : 500.0 : 575.5 :  None\n"
     ]
    }
   ],
   "source": [
    "opt = SolverFactory('glpk')\n",
    "\n",
    "model.dual = Suffix(direction=Suffix.IMPORT, datatype=Suffix.INT) \n",
    "\n",
    "# Solve\n",
    "results = opt.solve(model)  # solve the model\n",
    " \n",
    "model.display()\n"
   ]
  },
  {
   "cell_type": "markdown",
   "id": "fe154aa4-bfa0-4edb-841f-232db1d071a7",
   "metadata": {},
   "source": [
    "### INTERPRETATION / COMMENTS ABOUT RESULTS"
   ]
  },
  {
   "cell_type": "markdown",
   "id": "a224f5ff-4f6b-4850-9e7e-9b657972fb7a",
   "metadata": {},
   "source": [
    "From the 40 variables we had (0 to 39), we see that the **solution** includes the following plans:\n",
    "- 1 time the \"Three non-consecutive weekdays plan\" ($x_{16}$)\n",
    "- 4 times the \"Three weekdays and one weekend day plan\" ($x_{18}$)\n",
    "- 4 times the \"Three weekdays and one weekend day plan\" ($x_{21}$)\n",
    "- 3 times the \"Three weekdays and one weekend day plan\" ($x_{23}$)\n",
    "- 3 times the \"Three weekdays and one weekend day plan\" ($x_{27}$)\n",
    "- 6 times the \"Three weekdays and one weekend day plan\" ($x_{30}$)\n",
    "- 6 times the \"Three weekdays and one weekend day plan\" ($x_{35}$)\n",
    "- 9 times the \"Weekend plan\" ($x_{37}$)\n",
    "\n",
    "We are going to spend a **total of 575.5 euros** in all these gym plans.\n",
    "\n",
    "The solution makes sense as it is cheaper to use plans that offer multiple days than daily plans.\n",
    "\n",
    "*Additional comment:*\n",
    "\n",
    "By using gurobi, I got the solutions with a negative sign in front of the 0s, but when using glpk I did not, so I used glpk for esthetics basically.\n",
    "Nevertheless, I obtained the same solutions using both of the solvers."
   ]
  },
  {
   "cell_type": "markdown",
   "id": "5b39bf76-3d4f-4ba8-9684-2a634495e731",
   "metadata": {},
   "source": [
    "### 4. Computing sensitivities"
   ]
  },
  {
   "cell_type": "code",
   "execution_count": 4,
   "id": "5d6f69f6-e495-48d5-8b61-13c4743ab6f5",
   "metadata": {},
   "outputs": [
    {
     "name": "stdout",
     "output_type": "stream",
     "text": [
      "dual : Direction=Suffix.IMPORT, Datatype=Suffix.INT\n",
      "    Key : Value\n"
     ]
    }
   ],
   "source": [
    "# Computing the sensitivities associated with each constraint\n",
    "\n",
    "display(model.dual)"
   ]
  },
  {
   "cell_type": "markdown",
   "id": "01af29fe-4163-4fb5-844f-4a3d369bcbcc",
   "metadata": {},
   "source": [
    "I tried computing the sensitivites associated with each constraint, and even changed the datatype to integers but it would not return any values. I do not know what is the issue with it. "
   ]
  },
  {
   "cell_type": "markdown",
   "id": "c83462a0-c6bf-4775-bcf1-155dc195775b",
   "metadata": {},
   "source": [
    "### 5. Modifying the problem"
   ]
  },
  {
   "cell_type": "markdown",
   "id": "2de6ebf4-9f8e-4588-9331-c383e497a5ca",
   "metadata": {},
   "source": [
    "### STATEMENT"
   ]
  },
  {
   "cell_type": "markdown",
   "id": "85a1d5ee-6b18-4619-b4c4-ba5b851d2ed2",
   "metadata": {},
   "source": [
    "After 6 months in the gym, you are much more in shape and you decide that you want to join some directed classes every month.\n",
    "\n",
    "Your gym offers several classes, but as a rookie, you do not know what classes to choose. \n",
    "\n",
    "So, you decide to join the classes that allow you to save more money (maximizing discount and fulfilling your budget).\n",
    "\n",
    "Moreover, you need to buy yourself some equipment required for each class.\n",
    "\n",
    "Every class requires you to buy a specific brand of equipment in order to join, so prices may very for each product depending on the class you take.\n",
    "\n",
    "Additionally, your gym offers a discount in euros to your bill if you participate in some classes, as they want to promote social groups inside the gym and also compensate you due to the lack of equipment.\n",
    "\n",
    "In the table below, you can find the prices in euros for each class and for every piece of equipment required:\n",
    "\n",
    "Class | 5kg dumbbells | 10kg dumbbells | Olympic bar | 5kg disks | 10kg disks | Elastic bands | Mat | Shoes | Hand grips | Discount (euros)\n",
    " -------------|----|----|----|----|----|----|----|----|----|----\n",
    "  Body combat | 3 | 5 | 0 | 3.5 | 5.5 | 6 | 0 | 0 | 4 | 5 |\n",
    "  GAP | 4 | 6 | 10 | 3 | 0 | 5 | 3 | 0 | 0 | 3 |\n",
    "  Cycling | 0 | 0 | 0 | 0 | 0 | 0 | 0 | 25 | 3 | 4 |\n",
    "  Yoga | 0 | 0 | 0 | 0 | 0 | 10 | 5 | 0 | 0 | 2 |\n",
    "  Strength | 0 | 6 | 9 | 0 | 6 | 0 | 4 | 0 | 3 | 3 |\n",
    "  Crossfit | 3 | 5 | 7 | 3 | 5 | 3 | 4 | 20 | 3 | 6 |\n",
    "  \n",
    "Also, you have set a budget for each piece of equipment:\n",
    "\n",
    "Equipment | Budget\n",
    " -------- | ------ \n",
    "5kg dumbbells | 7\n",
    "10kg dumbbells | 12\n",
    "Olympic bar | 20\n",
    "5kg disks | 7\n",
    "10kg disks | 12\n",
    "Elastic bands | 15\n",
    "Mat | 12\n",
    "Shoes | 30\n",
    "Hand grips | 15"
   ]
  },
  {
   "cell_type": "markdown",
   "id": "39e82244-345a-47f7-85bb-97674c0cc81a",
   "metadata": {},
   "source": [
    "This problem can be formulated using the following model:  \n",
    " \n",
    "<li> <font color=\"blue\">Decision variables:</font>\n",
    "$$\n",
    "x_i =\n",
    "\\left\\{\\begin{array}{ll} \n",
    "1, & \\text{if gym class $i$ is selected,}\\\\\n",
    "0, & \\text{if gym class $i$ is not selected}\n",
    "\\end{array} \\right.\\quad i=1,2,3,4,5,6\n",
    "$$\n",
    "\n",
    "<li> <font color=\"blue\">Objective:</font> maximize discount.\n",
    "$$\n",
    "5 x_1 + 3 x_2 + 4 x_3 + 2 x_4 + 3 x_5 + 6 x_6\n",
    "$$\n",
    "\n",
    "\n",
    "<li><font color=\"blue\">Constraints:</font>\n",
    "<ul>\n",
    "\n",
    "<li>Piece of equipment's budget:\n",
    "$$\n",
    "\\begin{array}{ll}\n",
    "3 x_1 + 4 x_2 + 0 x_3 + 0 x_4 + 0 x_5 + 3 x_6 \\leq 7 & \\text{(5kg dumbbells)}\n",
    "\\\\\n",
    "5 x_1 + 6 x_2 + 0 x_3 + 0 x_4 + 6 x_5 + 5 x_6 \\leq 12 & \\text{(10kg dumbbells)}\n",
    "\\\\\n",
    "0 x_1 + 10 x_2 + 0 x_3 + 0 x_4 + 9 x_5 + 7 x_6 \\leq 20 & \\text{(Olympic bar)}\n",
    "\\\\\n",
    "3.5 x_1 + 3 x_2 + 0 x_3 + 0 x_4 + 0 x_5 + 3 x_6 \\leq 20 & \\text{(5kg disks)}\n",
    "\\\\\n",
    "5.5 x_1 + 0 x_2 + 0 x_3 + 0 x_4 + 6 x_5 + 5 x_6 \\leq 20 & \\text{(10kg disks)}\n",
    "\\\\\n",
    "6 x_1 + 5 x_2 + 0 x_3 + 10 x_4 + 0 x_5 + 3 x_6 \\leq 20 & \\text{(Elastic bands)}\n",
    "\\\\\n",
    "0 x_1 + 3 x_2 + 0 x_3 + 5 x_4 + 4 x_5 + 4 x_6 \\leq 20 & \\text{(Mat)}\n",
    "\\\\\n",
    "0 x_1 + 0 x_2 + 25 x_3 + 0 x_4 + 0 x_5 + 20 x_6 \\leq 20 & \\text{(Shoes)}\n",
    "\\\\\n",
    "4 x_1 + 0 x_2 + 3 x_3 + 0 x_4 + 3 x_5 + 3 x_6 \\leq 20 & \\text{(Hand grips)}\n",
    "\\end{array}\n",
    "$$\n",
    "\n",
    "<li>Binary variables:\n",
    "$$\n",
    "x_i \\in \\{ 0,1\\}, i=1,2,3,4,5,6\n",
    "$$\n",
    "</ul>\n",
    "\n",
    " \n",
    "  "
   ]
  },
  {
   "cell_type": "code",
   "execution_count": 5,
   "id": "9cc7fdc4-af93-4046-8f6c-2a8281f5d878",
   "metadata": {},
   "outputs": [],
   "source": [
    "from pyomo.environ import *\n",
    "\n",
    "model = ConcreteModel()\n",
    "\n",
    "# variables\n",
    "model.y = Var([1,2,3,4,5,6], domain=Binary)\n",
    "\n",
    "# objective function: maximize discount\n",
    "model.OBJ = Objective(expr = 5*model.y[1]+3*model.y[2]+4*model.y[3]+2*model.y[4]+3*model.y[5]+6*model.y[6],sense = maximize)\n",
    "\n",
    "# constraints\n",
    "model.cons1 = Constraint(expr = 3*model.y[1]+4*model.y[2]+0*model.y[3]+0*model.y[4]+0*model.y[5]+3*model.y[6] <= 7)\n",
    "\n",
    "model.cons2 = Constraint(expr = 5*model.y[1]+6*model.y[2]+0*model.y[3]+0*model.y[4]+6*model.y[5]+5*model.y[6] <= 12)\n",
    "\n",
    "model.cons3 = Constraint(expr = 0*model.y[1]+10*model.y[2]+0*model.y[3]+0*model.y[4]+9*model.y[5]+7*model.y[6] <= 20)\n",
    "\n",
    "model.cons4 = Constraint(expr = 3.5*model.y[1]+3*model.y[2]+0*model.y[3]+0*model.y[4]+0*model.y[5]+3*model.y[6] <= 7)\n",
    "\n",
    "model.cons5 = Constraint(expr = 5.5*model.y[1]+0*model.y[2]+0*model.y[3]+0*model.y[4]+6*model.y[5]+5*model.y[6] <= 12)\n",
    "\n",
    "model.cons6 = Constraint(expr = 6*model.y[1]+5*model.y[2]+0*model.y[3]+10*model.y[4]+0*model.y[5]+3*model.y[6] <= 15)\n",
    "\n",
    "model.cons7 = Constraint(expr = 0*model.y[1]+3*model.y[2]+0*model.y[3]+5*model.y[4]+4*model.y[5]+4*model.y[6] <= 12)\n",
    "\n",
    "model.cons8 = Constraint(expr = 0*model.y[1]+0*model.y[2]+25*model.y[3]+0*model.y[4]+0*model.y[5]+20*model.y[6] <= 30)\n",
    "\n",
    "model.cons9 = Constraint(expr = 4*model.y[1]+0*model.y[2]+3*model.y[3]+0*model.y[4]+3*model.y[5]+3*model.y[6] <= 15)"
   ]
  },
  {
   "cell_type": "code",
   "execution_count": 6,
   "id": "b0d3e4ef-5341-436c-afb7-f7d59ce0082d",
   "metadata": {},
   "outputs": [
    {
     "name": "stdout",
     "output_type": "stream",
     "text": [
      "Model unknown\n",
      "\n",
      "  Variables:\n",
      "    y : Size=6, Index=y_index\n",
      "        Key : Lower : Value : Upper : Fixed : Stale : Domain\n",
      "          1 :     0 :   1.0 :     1 : False : False : Binary\n",
      "          2 :     0 :  -0.0 :     1 : False : False : Binary\n",
      "          3 :     0 :   1.0 :     1 : False : False : Binary\n",
      "          4 :     0 :  -0.0 :     1 : False : False : Binary\n",
      "          5 :     0 :   1.0 :     1 : False : False : Binary\n",
      "          6 :     0 :  -0.0 :     1 : False : False : Binary\n",
      "\n",
      "  Objectives:\n",
      "    OBJ : Size=1, Index=None, Active=True\n",
      "        Key  : Active : Value\n",
      "        None :   True :  12.0\n",
      "\n",
      "  Constraints:\n",
      "    cons1 : Size=1\n",
      "        Key  : Lower : Body : Upper\n",
      "        None :  None :  3.0 :   7.0\n",
      "    cons2 : Size=1\n",
      "        Key  : Lower : Body : Upper\n",
      "        None :  None : 11.0 :  12.0\n",
      "    cons3 : Size=1\n",
      "        Key  : Lower : Body : Upper\n",
      "        None :  None :  9.0 :  20.0\n",
      "    cons4 : Size=1\n",
      "        Key  : Lower : Body : Upper\n",
      "        None :  None :  3.5 :   7.0\n",
      "    cons5 : Size=1\n",
      "        Key  : Lower : Body : Upper\n",
      "        None :  None : 11.5 :  12.0\n",
      "    cons6 : Size=1\n",
      "        Key  : Lower : Body : Upper\n",
      "        None :  None :  6.0 :  15.0\n",
      "    cons7 : Size=1\n",
      "        Key  : Lower : Body : Upper\n",
      "        None :  None :  4.0 :  12.0\n",
      "    cons8 : Size=1\n",
      "        Key  : Lower : Body : Upper\n",
      "        None :  None : 25.0 :  30.0\n",
      "    cons9 : Size=1\n",
      "        Key  : Lower : Body : Upper\n",
      "        None :  None : 10.0 :  15.0\n"
     ]
    }
   ],
   "source": [
    "#Solver = SolverFactory('glpk')\n",
    "Solver = SolverFactory('gurobi')\n",
    "\n",
    "Results = Solver.solve(model)\n",
    "\n",
    "# Display solution\n",
    "display(model)"
   ]
  },
  {
   "cell_type": "markdown",
   "id": "f878cda2-4c2d-4f78-8c65-30b3cf562f32",
   "metadata": {},
   "source": [
    "As we can see from the solution, you are going to take the following **gym classes**:\n",
    "- Body combat ($x_1$)\n",
    "- Cycling ($x_3$)\n",
    "- Strength ($x_5$)\n",
    "\n",
    "In addition, we are going to obtain a **total discount of 12 euros** by taking these three classes.\n",
    "\n",
    "Furthermore, you are going to spend the following **amount of money** for each piece of equipment:\n",
    "- 3 euros for 5kg dumbbells\n",
    "- 11 euros for 10kg dumbbells\n",
    "- 9 euros for the Olympic bar\n",
    "- 3.5 euros for 5kg disks\n",
    "- 11.5 euros for 10kg disks\n",
    "- 6 euros for elasctic bands\n",
    "- 4 euros for the mat\n",
    "- 25 euros for shoes\n",
    "- 10 euros for hand grips"
   ]
  },
  {
   "cell_type": "code",
   "execution_count": null,
   "id": "b394a54a-fb13-4444-b18f-e0c7a02a660f",
   "metadata": {},
   "outputs": [],
   "source": []
  }
 ],
 "metadata": {
  "kernelspec": {
   "display_name": "Python 3 (ipykernel)",
   "language": "python",
   "name": "python3"
  },
  "language_info": {
   "codemirror_mode": {
    "name": "ipython",
    "version": 3
   },
   "file_extension": ".py",
   "mimetype": "text/x-python",
   "name": "python",
   "nbconvert_exporter": "python",
   "pygments_lexer": "ipython3",
   "version": "3.10.5"
  }
 },
 "nbformat": 4,
 "nbformat_minor": 5
}
